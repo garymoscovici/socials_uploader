{
 "cells": [
  {
   "cell_type": "code",
   "execution_count": 18,
   "metadata": {},
   "outputs": [
    {
     "name": "stderr",
     "output_type": "stream",
     "text": [
      "\n",
      "\n",
      "\u001b[A\u001b[A                                                        \n",
      "\u001b[A\n",
      "\n",
      "\u001b[A\u001b[A                                                        \n",
      "\u001b[A"
     ]
    },
    {
     "name": "stdout",
     "output_type": "stream",
     "text": [
      "Moviepy - Building video combined.mp4.\n",
      "MoviePy - Writing audio in combinedTEMP_MPY_wvf_snd.mp3\n"
     ]
    },
    {
     "name": "stderr",
     "output_type": "stream",
     "text": [
      "                                                                    \n",
      "\n",
      "\u001b[A\u001b[A                                                        \n",
      "\u001b[A\n",
      "\n",
      "\u001b[A\u001b[A                                                        \n",
      "\u001b[A"
     ]
    },
    {
     "name": "stdout",
     "output_type": "stream",
     "text": [
      "MoviePy - Done.\n",
      "Moviepy - Writing video combined.mp4\n",
      "\n"
     ]
    },
    {
     "name": "stderr",
     "output_type": "stream",
     "text": [
      "                                                              \n",
      "\n",
      "\u001b[A\u001b[A                                                        \n",
      "\u001b[A\n",
      "\n",
      "\u001b[A\u001b[A                                                        \n",
      "\u001b[A"
     ]
    },
    {
     "name": "stdout",
     "output_type": "stream",
     "text": [
      "Moviepy - Done !\n",
      "Moviepy - video ready combined.mp4\n"
     ]
    }
   ],
   "source": [
    "from moviepy.editor import *\n",
    "from moviepy.video.fx.all import crop\n",
    "\n",
    "clip1 = VideoFileClip(\"test_vid.mp4\")\n",
    "clip2 = VideoFileClip('soap_cutting.mp4')\n",
    "\n",
    "clip1 = clip1.subclip(10,20)\n",
    "\n",
    "clip2 = clip2.subclip(100,110)\n",
    "(w,h) = clip2.size\n",
    "\n",
    "cropped_clip2 = crop(clip2,width=w/2, x_center=(h/2) + (w/4))\n",
    "(w,h) = cropped_clip2.size\n",
    "clip1 = clip1.resize(width=w)\n",
    "final = clips_array([[clip1], [cropped_clip2]])\n",
    "# final.ipython_display(width=480)\n",
    "final.write_videofile(\"combined.mp4\")"
   ]
  },
  {
   "cell_type": "code",
   "execution_count": 23,
   "metadata": {},
   "outputs": [
    {
     "name": "stdout",
     "output_type": "stream",
     "text": [
      "[960, 1620]\n",
      "0.5925925925925926\n",
      "15.1875\n"
     ]
    }
   ],
   "source": [
    "clip_out = VideoFileClip(\"combined.mp4\")\n",
    "print(clip_out.size)\n",
    "print(clip_out.size[0]/clip_out.size[1])\n",
    "print(clip_out.size[1]/clip_out.size[0]*9)\n"
   ]
  },
  {
   "cell_type": "code",
   "execution_count": 2,
   "metadata": {},
   "outputs": [
    {
     "name": "stdout",
     "output_type": "stream",
     "text": [
      "getting cookies button\n",
      "clicked cookies button\n"
     ]
    },
    {
     "ename": "NoSuchWindowException",
     "evalue": "Message: no such window: target window already closed\nfrom unknown error: web view not found\n  (Session info: chrome=114.0.5735.110)\nStacktrace:\nBacktrace:\n\tGetHandleVerifier [0x00CFA813+48355]\n\t(No symbol) [0x00C8C4B1]\n\t(No symbol) [0x00B95358]\n\t(No symbol) [0x00B7D293]\n\t(No symbol) [0x00BDE37B]\n\t(No symbol) [0x00BEC473]\n\t(No symbol) [0x00BDA536]\n\t(No symbol) [0x00BB82DC]\n\t(No symbol) [0x00BB93DD]\n\tGetHandleVerifier [0x00F5AABD+2539405]\n\tGetHandleVerifier [0x00F9A78F+2800735]\n\tGetHandleVerifier [0x00F9456C+2775612]\n\tGetHandleVerifier [0x00D851E0+616112]\n\t(No symbol) [0x00C95F8C]\n\t(No symbol) [0x00C92328]\n\t(No symbol) [0x00C9240B]\n\t(No symbol) [0x00C84FF7]\n\tBaseThreadInitThunk [0x76DAFA29+25]\n\tRtlGetAppContainerNamedObjectPath [0x775276B4+228]\n\tRtlGetAppContainerNamedObjectPath [0x77527684+180]\n",
     "output_type": "error",
     "traceback": [
      "\u001b[1;31m---------------------------------------------------------------------------\u001b[0m",
      "\u001b[1;31mNoSuchWindowException\u001b[0m                     Traceback (most recent call last)",
      "Cell \u001b[1;32mIn[2], line 48\u001b[0m\n\u001b[0;32m     45\u001b[0m     \u001b[39mwith\u001b[39;00m \u001b[39mopen\u001b[39m(path, \u001b[39m'\u001b[39m\u001b[39mwb\u001b[39m\u001b[39m'\u001b[39m) \u001b[39mas\u001b[39;00m filehandler:\n\u001b[0;32m     46\u001b[0m         pickle\u001b[39m.\u001b[39mdump(driver\u001b[39m.\u001b[39mget_cookies(), filehandler)\n\u001b[1;32m---> 48\u001b[0m get_login_cookies()\n",
      "Cell \u001b[1;32mIn[2], line 37\u001b[0m, in \u001b[0;36mget_login_cookies\u001b[1;34m()\u001b[0m\n\u001b[0;32m     35\u001b[0m element\u001b[39m.\u001b[39msend_keys(\u001b[39m\"\u001b[39m\u001b[39mpassword\u001b[39m\u001b[39m\"\u001b[39m)\n\u001b[0;32m     36\u001b[0m element\u001b[39m.\u001b[39msend_keys(Keys\u001b[39m.\u001b[39mRETURN)\n\u001b[1;32m---> 37\u001b[0m element \u001b[39m=\u001b[39m WebDriverWait(driver, \u001b[39m10\u001b[39;49m)\u001b[39m.\u001b[39;49muntil(\n\u001b[0;32m     38\u001b[0m     EC\u001b[39m.\u001b[39;49mpresence_of_element_located((By\u001b[39m.\u001b[39;49mXPATH, TURN_OFF_NOTIFICATIONS_XPATH))\n\u001b[0;32m     39\u001b[0m )\n\u001b[0;32m     41\u001b[0m element\u001b[39m.\u001b[39mclick()\n\u001b[0;32m     42\u001b[0m save_cookie(driver, \u001b[39m'\u001b[39m\u001b[39m./insta_cookies.txt\u001b[39m\u001b[39m'\u001b[39m)\n",
      "File \u001b[1;32mc:\\Users\\garym\\projects\\socials_uploader\\.venv\\Lib\\site-packages\\selenium\\webdriver\\support\\wait.py:86\u001b[0m, in \u001b[0;36mWebDriverWait.until\u001b[1;34m(self, method, message)\u001b[0m\n\u001b[0;32m     84\u001b[0m \u001b[39mwhile\u001b[39;00m \u001b[39mTrue\u001b[39;00m:\n\u001b[0;32m     85\u001b[0m     \u001b[39mtry\u001b[39;00m:\n\u001b[1;32m---> 86\u001b[0m         value \u001b[39m=\u001b[39m method(\u001b[39mself\u001b[39;49m\u001b[39m.\u001b[39;49m_driver)\n\u001b[0;32m     87\u001b[0m         \u001b[39mif\u001b[39;00m value:\n\u001b[0;32m     88\u001b[0m             \u001b[39mreturn\u001b[39;00m value\n",
      "File \u001b[1;32mc:\\Users\\garym\\projects\\socials_uploader\\.venv\\Lib\\site-packages\\selenium\\webdriver\\support\\expected_conditions.py:69\u001b[0m, in \u001b[0;36mpresence_of_element_located.<locals>._predicate\u001b[1;34m(driver)\u001b[0m\n\u001b[0;32m     68\u001b[0m \u001b[39mdef\u001b[39;00m \u001b[39m_predicate\u001b[39m(driver):\n\u001b[1;32m---> 69\u001b[0m     \u001b[39mreturn\u001b[39;00m driver\u001b[39m.\u001b[39;49mfind_element(\u001b[39m*\u001b[39;49mlocator)\n",
      "File \u001b[1;32mc:\\Users\\garym\\projects\\socials_uploader\\.venv\\Lib\\site-packages\\selenium\\webdriver\\remote\\webdriver.py:831\u001b[0m, in \u001b[0;36mWebDriver.find_element\u001b[1;34m(self, by, value)\u001b[0m\n\u001b[0;32m    828\u001b[0m     by \u001b[39m=\u001b[39m By\u001b[39m.\u001b[39mCSS_SELECTOR\n\u001b[0;32m    829\u001b[0m     value \u001b[39m=\u001b[39m \u001b[39mf\u001b[39m\u001b[39m'\u001b[39m\u001b[39m[name=\u001b[39m\u001b[39m\"\u001b[39m\u001b[39m{\u001b[39;00mvalue\u001b[39m}\u001b[39;00m\u001b[39m\"\u001b[39m\u001b[39m]\u001b[39m\u001b[39m'\u001b[39m\n\u001b[1;32m--> 831\u001b[0m \u001b[39mreturn\u001b[39;00m \u001b[39mself\u001b[39;49m\u001b[39m.\u001b[39;49mexecute(Command\u001b[39m.\u001b[39;49mFIND_ELEMENT, {\u001b[39m\"\u001b[39;49m\u001b[39musing\u001b[39;49m\u001b[39m\"\u001b[39;49m: by, \u001b[39m\"\u001b[39;49m\u001b[39mvalue\u001b[39;49m\u001b[39m\"\u001b[39;49m: value})[\u001b[39m\"\u001b[39m\u001b[39mvalue\u001b[39m\u001b[39m\"\u001b[39m]\n",
      "File \u001b[1;32mc:\\Users\\garym\\projects\\socials_uploader\\.venv\\Lib\\site-packages\\selenium\\webdriver\\remote\\webdriver.py:440\u001b[0m, in \u001b[0;36mWebDriver.execute\u001b[1;34m(self, driver_command, params)\u001b[0m\n\u001b[0;32m    438\u001b[0m response \u001b[39m=\u001b[39m \u001b[39mself\u001b[39m\u001b[39m.\u001b[39mcommand_executor\u001b[39m.\u001b[39mexecute(driver_command, params)\n\u001b[0;32m    439\u001b[0m \u001b[39mif\u001b[39;00m response:\n\u001b[1;32m--> 440\u001b[0m     \u001b[39mself\u001b[39;49m\u001b[39m.\u001b[39;49merror_handler\u001b[39m.\u001b[39;49mcheck_response(response)\n\u001b[0;32m    441\u001b[0m     response[\u001b[39m\"\u001b[39m\u001b[39mvalue\u001b[39m\u001b[39m\"\u001b[39m] \u001b[39m=\u001b[39m \u001b[39mself\u001b[39m\u001b[39m.\u001b[39m_unwrap_value(response\u001b[39m.\u001b[39mget(\u001b[39m\"\u001b[39m\u001b[39mvalue\u001b[39m\u001b[39m\"\u001b[39m, \u001b[39mNone\u001b[39;00m))\n\u001b[0;32m    442\u001b[0m     \u001b[39mreturn\u001b[39;00m response\n",
      "File \u001b[1;32mc:\\Users\\garym\\projects\\socials_uploader\\.venv\\Lib\\site-packages\\selenium\\webdriver\\remote\\errorhandler.py:245\u001b[0m, in \u001b[0;36mErrorHandler.check_response\u001b[1;34m(self, response)\u001b[0m\n\u001b[0;32m    243\u001b[0m         alert_text \u001b[39m=\u001b[39m value[\u001b[39m\"\u001b[39m\u001b[39malert\u001b[39m\u001b[39m\"\u001b[39m]\u001b[39m.\u001b[39mget(\u001b[39m\"\u001b[39m\u001b[39mtext\u001b[39m\u001b[39m\"\u001b[39m)\n\u001b[0;32m    244\u001b[0m     \u001b[39mraise\u001b[39;00m exception_class(message, screen, stacktrace, alert_text)  \u001b[39m# type: ignore[call-arg]  # mypy is not smart enough here\u001b[39;00m\n\u001b[1;32m--> 245\u001b[0m \u001b[39mraise\u001b[39;00m exception_class(message, screen, stacktrace)\n",
      "\u001b[1;31mNoSuchWindowException\u001b[0m: Message: no such window: target window already closed\nfrom unknown error: web view not found\n  (Session info: chrome=114.0.5735.110)\nStacktrace:\nBacktrace:\n\tGetHandleVerifier [0x00CFA813+48355]\n\t(No symbol) [0x00C8C4B1]\n\t(No symbol) [0x00B95358]\n\t(No symbol) [0x00B7D293]\n\t(No symbol) [0x00BDE37B]\n\t(No symbol) [0x00BEC473]\n\t(No symbol) [0x00BDA536]\n\t(No symbol) [0x00BB82DC]\n\t(No symbol) [0x00BB93DD]\n\tGetHandleVerifier [0x00F5AABD+2539405]\n\tGetHandleVerifier [0x00F9A78F+2800735]\n\tGetHandleVerifier [0x00F9456C+2775612]\n\tGetHandleVerifier [0x00D851E0+616112]\n\t(No symbol) [0x00C95F8C]\n\t(No symbol) [0x00C92328]\n\t(No symbol) [0x00C9240B]\n\t(No symbol) [0x00C84FF7]\n\tBaseThreadInitThunk [0x76DAFA29+25]\n\tRtlGetAppContainerNamedObjectPath [0x775276B4+228]\n\tRtlGetAppContainerNamedObjectPath [0x77527684+180]\n"
     ]
    }
   ],
   "source": [
    "from selenium import webdriver\n",
    "from selenium .webdriver.common.by import By\n",
    "from selenium.webdriver.support.ui import WebDriverWait\n",
    "from selenium.webdriver.support import expected_conditions as EC\n",
    "from selenium.webdriver.common.keys import Keys\n",
    "import time\n",
    "import pickle\n",
    "\n",
    "COOKIES_BUTTON = \"/html/body/div[2]/div/div/div[2]/div/div/div[1]/div/div[2]/div/div/div/div/div[2]/div/button[1]\"\n",
    "USERNAME_XPATH = \"/html/body/div[2]/div/div/div[1]/div/div/div/div[1]/section/main/article/div[2]/div[1]/div[2]/form/div/div[1]/div/label/input\"\n",
    "PASSWORD_XPATH = \"/html/body/div[2]/div/div/div[1]/div/div/div/div[1]/section/main/article/div[2]/div[1]/div[2]/form/div[1]/div[2]/div/label/input\"\n",
    "LOGIN_BUTTON = \"/html/body/div[2]/div/div/div[1]/div/div/div/div[1]/section/main/article/div[2]/div[1]/div[2]/form/div/div[3]\"\n",
    "CREATE_CONTENT_SELECTOR = \"[aria-label=New post]\"\n",
    "TURN_OFF_NOTIFICATIONS_XPATH = \"/html/body/div[2]/div/div/div[3]/div/div/div[1]/div/div[2]/div/div/div/div/div[2]/div/div/div[3]/button[2]\"\n",
    "\n",
    "\n",
    "\n",
    "driver = webdriver.Chrome()\n",
    "driver.get(\"https://instagram.com\")\n",
    "\n",
    "def get_login_cookies():\n",
    "    print(\"getting cookies button\")\n",
    "    element = WebDriverWait(driver, 10).until(\n",
    "        EC.presence_of_element_located((By.XPATH, COOKIES_BUTTON))\n",
    "    )\n",
    "    element.click()\n",
    "    print(\"clicked cookies button\")\n",
    "    \n",
    "    time.sleep(1)\n",
    "    # Login\n",
    "    # TODO: add webdriver wait\n",
    "    element = driver.find_element(By.XPATH, USERNAME_XPATH)\n",
    "    element.send_keys(\"user@email.com\")\n",
    "    element = driver.find_element(By.XPATH, PASSWORD_XPATH)\n",
    "    element.send_keys(\"password\")\n",
    "    element.send_keys(Keys.RETURN)\n",
    "    element = WebDriverWait(driver, 10).until(\n",
    "        EC.presence_of_element_located((By.XPATH, TURN_OFF_NOTIFICATIONS_XPATH))\n",
    "    )\n",
    "    \n",
    "    element.click()\n",
    "    save_cookie(driver, './insta_cookies.txt')\n",
    "    \n",
    "def save_cookie(driver, path):\n",
    "    with open(path, 'wb') as filehandler:\n",
    "        pickle.dump(driver.get_cookies(), filehandler)\n",
    "\n",
    "get_login_cookies()"
   ]
  },
  {
   "cell_type": "code",
   "execution_count": 18,
   "metadata": {},
   "outputs": [
    {
     "name": "stdout",
     "output_type": "stream",
     "text": [
      "loading cookies\n",
      "Turning off notifications\n",
      "Clicking create content button\n",
      "Clicking upload video\n",
      "Waiting\n",
      "Typing file path to video\n",
      "Confirming upload to reels\n",
      "clicking next after selecting video\n",
      "Attempting to click on select thumbnail\n"
     ]
    }
   ],
   "source": [
    "# WORKING UPLOAD TO INSTA. JUST NEED TO CLICK UPLOAD\n",
    "# ADD OPTION TO LOGIN AND CHECK IF COOKIES ARE REQUIRED\n",
    "             \n",
    "from selenium import webdriver\n",
    "from selenium .webdriver.common.by import By\n",
    "from selenium.webdriver.support.ui import WebDriverWait\n",
    "from selenium.webdriver.support import expected_conditions as EC\n",
    "from selenium.webdriver.common.keys import Keys\n",
    "from selenium.webdriver.common.action_chains import ActionChains\n",
    "from selenium.common.exceptions import NoSuchElementException\n",
    "import pyautogui\n",
    "import pickle\n",
    "\n",
    "COOKIES_BUTTON = \"/html/body/div[2]/div/div/div[2]/div/div/div[1]/div/div[2]/div/div/div/div/div[2]/div/button[1]\"\n",
    "USERNAME_XPATH = \"/html/body/div[2]/div/div/div[1]/div/div/div/div[1]/section/main/article/div[2]/div[1]/div[2]/form/div/div[1]/div/label/input\"\n",
    "PASSWORD_XPATH = \"/html/body/div[2]/div/div/div[1]/div/div/div/div[1]/section/main/article/div[2]/div[1]/div[2]/form/div[1]/div[2]/div/label/input\"\n",
    "LOGIN_BUTTON = \"/html/body/div[2]/div/div/div[1]/div/div/div/div[1]/section/main/article/div[2]/div[1]/div[2]/form/div/div[3]\"\n",
    "CREATE_CONTENT_SELECTOR = \"[aria-label='New post']\"\n",
    "TURN_OFF_NOTIFICATIONS_XPATH = \"/html/body/div[2]/div/div/div[3]/div/div/div[1]/div/div[2]/div/div/div/div/div[2]/div/div/div[3]/button[2]\"\n",
    "UPLOAD_BUTTON = \"/html/body/div[2]/div/div/div[3]/div/div/div[1]/div/div[3]/div/div/div/div/div[2]/div/div/div/div[2]/div[1]/div/div/div[2]/div/button\"\n",
    "CONFIRM_REELS_XPATH = \"/html/body/div[2]/div/div/div[3]/div/div/div[2]/div/div/div[1]/div/div[2]/div/div/div/div/div[2]/div/div/div[3]/div/div[4]/button\"\n",
    "UPLOAD_NEXT_XPATH = \"/html/body/div[2]/div/div/div[3]/div/div/div[1]/div/div[3]/div/div/div/div/div[2]/div/div/div/div[1]/div/div/div[3]/div/div\"\n",
    "SELECT_THUMBNAIL_XPATH = \"//*[contains(text(), 'Select From Computer')]\"\n",
    "UPLOAD_NEXT_2_XPATH = \"/html/body/div[2]/div/div/div[3]/div/div/div[1]/div/div[3]/div/div/div/div/div[2]/div/div/div/div[1]/div/div/div[3]/div/div\"\n",
    "CAPTION_XPATH = \"/html/body/div[2]/div/div/div[3]/div/div/div[1]/div/div[3]/div/div/div/div/div[2]/div/div/div/div[2]/div[2]/div/div/div/div[2]/div[1]/div[1]\"\n",
    "def load_cookie(driver, path):\n",
    "     with open(path, 'rb') as cookiesfile:\n",
    "         cookies = pickle.load(cookiesfile)\n",
    "         for cookie in cookies:\n",
    "             driver.add_cookie(cookie)\n",
    "\n",
    "driver = webdriver.Chrome()\n",
    "driver.get(\"https://instagram.com\")\n",
    "load_cookie(driver,'./insta_cookies.txt')\n",
    "print(\"loading cookies\")\n",
    "driver.refresh()\n",
    "print('Turning off notifications')\n",
    "element = WebDriverWait(driver, 10).until(\n",
    "    EC.presence_of_element_located((By.XPATH, TURN_OFF_NOTIFICATIONS_XPATH))\n",
    ")\n",
    "\n",
    "element.click()\n",
    "print('Clicking create content button')\n",
    "element = WebDriverWait(driver, 10).until(\n",
    "    EC.presence_of_element_located((By.CSS_SELECTOR, CREATE_CONTENT_SELECTOR))\n",
    ")\n",
    "element.click()\n",
    "print('Clicking upload video')\n",
    "element = WebDriverWait(driver, 10).until(\n",
    "    EC.presence_of_element_located((By.XPATH, UPLOAD_BUTTON))\n",
    ")\n",
    "element.click()\n",
    "\n",
    "print('Waiting')\n",
    "time.sleep(2)\n",
    "print('Typing file path to video')\n",
    "pyautogui.typewrite(r\"C:\\Users\\garym\\Videos\\test_vid.mp4\")\n",
    "pyautogui.press('enter')\n",
    "try:\n",
    "    print('Confirming upload to reels')\n",
    "    element = WebDriverWait(driver, 10).until(\n",
    "        EC.presence_of_element_located((By.XPATH, CONFIRM_REELS_XPATH))\n",
    "    )\n",
    "    element.click()\n",
    "except NoSuchElementException:\n",
    "    pass\n",
    "\n",
    "print(\"clicking next after selecting video\")\n",
    "element = WebDriverWait(driver, 10).until(\n",
    "    EC.presence_of_element_located((By.XPATH, UPLOAD_NEXT_XPATH))\n",
    ")\n",
    "\n",
    "element.click()\n",
    "\n",
    "\n",
    "print(\"Attempting to click on select thumbnail\")\n",
    "time.sleep(1)\n",
    "element = WebDriverWait(driver, 10).until(\n",
    "    EC.presence_of_element_located((By.XPATH, SELECT_THUMBNAIL_XPATH))\n",
    ")\n",
    "element.click()\n",
    "\n",
    "time.sleep(2)\n",
    "pyautogui.typewrite(r\"C:\\Users\\garym\\Pictures\\IMG_20200316_143802.jpg\")\n",
    "pyautogui.press('enter')\n",
    "\n",
    "\n",
    "element = WebDriverWait(driver, 10).until(\n",
    "    EC.presence_of_element_located((By.XPATH, UPLOAD_NEXT_2_XPATH))\n",
    ")\n",
    "element.click()\n",
    "\n",
    "element = driver.find_element(By.XPATH, CAPTION_XPATH)\n",
    "element.send_keys(\"This be a test caption\")"
   ]
  },
  {
   "cell_type": "code",
   "execution_count": 3,
   "metadata": {},
   "outputs": [
    {
     "ename": "AttributeError",
     "evalue": "module 'selenium.webdriver' has no attribute 'find_element_by_xpath'",
     "output_type": "error",
     "traceback": [
      "\u001b[1;31m---------------------------------------------------------------------------\u001b[0m",
      "\u001b[1;31mAttributeError\u001b[0m                            Traceback (most recent call last)",
      "Cell \u001b[1;32mIn[3], line 40\u001b[0m\n\u001b[0;32m     37\u001b[0m     \u001b[39melse\u001b[39;00m:\n\u001b[0;32m     38\u001b[0m         load_cookie(driver,\u001b[39m'\u001b[39m\u001b[39m./tiktok_cookies.txt\u001b[39m\u001b[39m'\u001b[39m)\n\u001b[1;32m---> 40\u001b[0m login_to_tiktok()\n",
      "Cell \u001b[1;32mIn[3], line 32\u001b[0m, in \u001b[0;36mlogin_to_tiktok\u001b[1;34m()\u001b[0m\n\u001b[0;32m     30\u001b[0m driver \u001b[39m=\u001b[39m webdriver\u001b[39m.\u001b[39mChrome()\n\u001b[0;32m     31\u001b[0m driver\u001b[39m.\u001b[39mget(\u001b[39m\"\u001b[39m\u001b[39mhttp://www.tiktok.com\u001b[39m\u001b[39m\"\u001b[39m)\n\u001b[1;32m---> 32\u001b[0m \u001b[39mif\u001b[39;00m \u001b[39mnot\u001b[39;00m check_exists_by_xpath(LOGIN_TIKTOK_BUTTON_XPATH):\n\u001b[0;32m     34\u001b[0m     \u001b[39mprint\u001b[39m(\u001b[39m\"\u001b[39m\u001b[39myou need to login\u001b[39m\u001b[39m\"\u001b[39m)\n\u001b[0;32m     35\u001b[0m     \u001b[39minput\u001b[39m(\u001b[39m\"\u001b[39m\u001b[39mPress Enter to continue...\u001b[39m\u001b[39m\"\u001b[39m)\n",
      "Cell \u001b[1;32mIn[3], line 14\u001b[0m, in \u001b[0;36mcheck_exists_by_xpath\u001b[1;34m(xpath)\u001b[0m\n\u001b[0;32m     12\u001b[0m \u001b[39mdef\u001b[39;00m \u001b[39mcheck_exists_by_xpath\u001b[39m(xpath):\n\u001b[0;32m     13\u001b[0m     \u001b[39mtry\u001b[39;00m:\n\u001b[1;32m---> 14\u001b[0m         webdriver\u001b[39m.\u001b[39;49mfind_element_by_xpath(xpath)\n\u001b[0;32m     15\u001b[0m     \u001b[39mexcept\u001b[39;00m NoSuchElementException:\n\u001b[0;32m     16\u001b[0m         \u001b[39mreturn\u001b[39;00m \u001b[39mFalse\u001b[39;00m\n",
      "\u001b[1;31mAttributeError\u001b[0m: module 'selenium.webdriver' has no attribute 'find_element_by_xpath'"
     ]
    }
   ],
   "source": [
    "from selenium import webdriver\n",
    "from selenium .webdriver.common.by import By\n",
    "from selenium.webdriver.support.ui import WebDriverWait\n",
    "from selenium.webdriver.support import expected_conditions as EC\n",
    "from selenium.webdriver.common.keys import Keys\n",
    "from selenium.webdriver.common.action_chains import ActionChains\n",
    "from selenium.common.exceptions import NoSuchElementException\n",
    "import pyautogui\n",
    "import pickle\n",
    "from selenium.common.exceptions import NoSuchElementException\n",
    "import time\n",
    "def check_exists_by_xpath(xpath):\n",
    "    try:\n",
    "        webdriver.find_element_by_xpath(xpath)\n",
    "    except NoSuchElementException:\n",
    "        return False\n",
    "    return True\n",
    "\n",
    "def load_cookie(driver, path):\n",
    "     with open(path, 'rb') as cookiesfile:\n",
    "         cookies = pickle.load(cookiesfile)\n",
    "         for cookie in cookies:\n",
    "             driver.add_cookie(cookie)\n",
    "\n",
    "\n",
    "\n",
    "def login_to_tiktok():\n",
    "    LOGIN_TIKTOK_BUTTON_XPATH = \"/html/body/div[7]/div[3]/div/div/div[1]/div[1]/div/div/a[2]/div/p\"\n",
    "    \"Use phone / email / username\"\n",
    "    driver = webdriver.Chrome()\n",
    "    driver.get(\"http://www.tiktok.com\")\n",
    "    if not check_exists_by_xpath(LOGIN_TIKTOK_BUTTON_XPATH):\n",
    "\n",
    "        print(\"you need to login\")\n",
    "        input(\"Press Enter to continue...\")\n",
    "        save_cookie(driver, './tiktok_cookies.txt')\n",
    "    else:\n",
    "        load_cookie(driver,'./tiktok_cookies.txt')\n",
    "        \n",
    "login_to_tiktok()"
   ]
  },
  {
   "cell_type": "code",
   "execution_count": null,
   "metadata": {},
   "outputs": [
    {
     "ename": "",
     "evalue": "",
     "output_type": "error",
     "traceback": [
      "\u001b[1;31mThe kernel failed to start as 'Mapping' could not be imported from 'C:\\Users\\garym\\AppData\\Local\\Programs\\Python\\Python311\\Lib\\collections\\__init__.py'.\n",
      "\u001b[1;31mClick <a href='https://aka.ms/kernelFailuresModuleImportErrFromFile'>here</a> for more info."
     ]
    }
   ],
   "source": [
    "from selenium import webdriver\n",
    "from selenium .webdriver.common.by import By\n",
    "from selenium.webdriver.support.ui import WebDriverWait\n",
    "from selenium.webdriver.support import expected_conditions as EC\n",
    "from selenium.webdriver.common.keys import Keys\n",
    "from selenium.webdriver.common.action_chains import ActionChains\n",
    "from selenium.common.exceptions import NoSuchElementException\n",
    "import pyautogui\n",
    "import pickle\n",
    "from selenium.common.exceptions import NoSuchElementException\n",
    "def check_exists_by_xpath(driver: webdriver,xpath):\n",
    "    try:\n",
    "        \n",
    "        driver.find_element(By.XPATH, xpath)\n",
    "    except NoSuchElementException:\n",
    "        return False\n",
    "    return True\n",
    "\n",
    "def load_cookie(driver, path):\n",
    "     with open(path, 'rb') as cookiesfile:\n",
    "         cookies = pickle.load(cookiesfile)\n",
    "         for cookie in cookies:\n",
    "             driver.add_cookie(cookie)\n",
    "\n",
    "def save_cookie(driver, path):\n",
    "    with open(path, 'wb') as filehandler:\n",
    "        pickle.dump(driver.get_cookies(), filehandler)\n",
    "\n",
    "def login_to_tiktok():\n",
    "    LOGIN_TIKTOK_BUTTON_XPATH = \"/html/body/div[7]/div[3]/div/div/div[1]/div[1]/div/div/a[2]/div/p\"\n",
    "    TIKTOK_ACCEPT_COOKIES = \"/html/body/tiktok-cookie-banner//div/div[2]/button[2]\"\n",
    "    TIKTOK_UPLOAD_BUTTON = \"/html/body/div[1]/div[1]/div/div[3]/div[1]/a/div/span\"\n",
    "    TIKTOK_SELECT_BUTTON = \"/html/body/div[1]/div/div/div/div/div/div/div/div\"\n",
    "    TIKTOK_CAPTION_BOX = \"/html/body/div[1]/div/div/div/div[2]/div[2]/div[2]/div[1]/div/div[1]/div[2]/div/div/div/div/div/div/div/div/div\"\n",
    "    \"Use phone / email / username\"\n",
    "    driver = webdriver.Chrome()\n",
    "    \n",
    "\n",
    "    driver.get(\"http://www.tiktok.com\")\n",
    "    try:\n",
    "        load_cookie(driver,'./tiktok_cookies.txt')\n",
    "    except:\n",
    "        print(\"you need to login\")\n",
    "        input(\"Press Enter to continue...\")\n",
    "        save_cookie(driver, './tiktok_cookies.txt')\n",
    "        load_cookie(driver,'./tiktok_cookies.txt')\n",
    "        \n",
    "    else:\n",
    "        driver.refresh()\n",
    "        \n",
    "    print(\"Continuing\")\n",
    "    print(\"Clicking on upload\")\n",
    "    \n",
    "    element = WebDriverWait(driver, 10).until(\n",
    "    EC.presence_of_element_located((By.XPATH, TIKTOK_UPLOAD_BUTTON))\n",
    "    )\n",
    "\n",
    "    element.click()\n",
    "    print(\"Clicking on select file\")\n",
    "    iframe = driver.find_element(By.CSS_SELECTOR, 'iframe')\n",
    "    driver.switch_to.frame(iframe)\n",
    "    time.sleep(3)\n",
    "    element = WebDriverWait(driver, 10).until(\n",
    "    EC.presence_of_element_located((By.XPATH, TIKTOK_SELECT_BUTTON))\n",
    "    )\n",
    "    ActionChains(driver).move_to_element(element).click(element).perform()\n",
    "    time.sleep(2)\n",
    "    pyautogui.typewrite(r\"C:\\Users\\garym\\Videos\\Call of Duty  Modern Warfare 2019\\First Warzone win\\Call of Duty  Modern Warfare 2019 2020.06.09 - 20.57.51.20.DVR.mp4\")\n",
    "    pyautogui.press('enter')\n",
    "    input(\"Press enter once upload is complete\")\n",
    "    element = driver.find_element(By.XPATH, TIKTOK_CAPTION_BOX)\n",
    "    element.click()\n",
    "    element.clear()\n",
    "    element.send_keys(\"This be a test caption\")\n",
    "    print(\"done\")\n",
    "    input(\"close Driver?\")\n",
    "\n",
    "login_to_tiktok()\n",
    "\n"
   ]
  },
  {
   "cell_type": "code",
   "execution_count": 28,
   "metadata": {},
   "outputs": [],
   "source": [
    "from moviepy.editor import *\n",
    "from moviepy.video.tools.subtitles import SubtitlesClip\n",
    "\n",
    "generator = lambda txt: TextClip(txt, font='Arial', fontsize=24, color='white')\n",
    "subs = [((0, 4), 'subs1'),\n",
    "        ((4, 9), 'subs2'),\n",
    "        ((9, 12), 'subs3'),\n",
    "        ((12, 16), 'subs4')]\n",
    "\n",
    "subtitles = SubtitlesClip(subs, generator)\n",
    "\n",
    "# video = VideoFileClip(r\"temp.mp4\")\n",
    "\n",
    "# result = CompositeVideoClip([video, subtitles.set_pos(('center','bottom'))])\n",
    "\n",
    "# result.write_videofile(\"output.mp4\", fps=video.fps, temp_audiofile=\"temp-audio.m4a\", remove_temp=True, codec=\"libx264\", audio_codec=\"aac\")"
   ]
  },
  {
   "cell_type": "code",
   "execution_count": 16,
   "metadata": {},
   "outputs": [
    {
     "name": "stdout",
     "output_type": "stream",
     "text": [
      "Moviepy - Building video combined.mp4.\n",
      "MoviePy - Writing audio in combinedTEMP_MPY_wvf_snd.mp3\n"
     ]
    },
    {
     "name": "stderr",
     "output_type": "stream",
     "text": [
      "                                                                    \r"
     ]
    },
    {
     "name": "stdout",
     "output_type": "stream",
     "text": [
      "MoviePy - Done.\n",
      "Moviepy - Writing video combined.mp4\n",
      "\n"
     ]
    },
    {
     "name": "stderr",
     "output_type": "stream",
     "text": [
      "                                                              \r"
     ]
    },
    {
     "name": "stdout",
     "output_type": "stream",
     "text": [
      "Moviepy - Done !\n",
      "Moviepy - video ready combined.mp4\n"
     ]
    }
   ],
   "source": [
    "from moviepy.editor import *\n",
    "from moviepy.video.fx.all import crop\n",
    "\n",
    "video = VideoFileClip(\"./short_clip.mp4\")\n",
    "\n",
    "video = video.subclip(0,10)\n",
    "video = video.resize(width=1080)\n",
    "# video.duration=10\n",
    "# video.write_videofile(\"short_clip.mp4\")\n",
    "black_image = (ImageClip(\"./background.jpeg\"))\n",
    "final = CompositeVideoClip([black_image, video.set_position(\"center\")])\n",
    "final.duration = 10\n",
    "\n",
    "# Generate a text clip \n",
    "height = 640\n",
    "width = 1000\n",
    "txt_clip = TextClip(\"MR BEAST GIVE AWAY SMASH THAT MF LIKE BUTTON\", color=\"white\", method=\"caption\", size = (width, height)) \n",
    "\n",
    "    \n",
    "# setting position of text in the center and duration will be 10 seconds \n",
    "txt_clip = txt_clip.set_position(\"top\")\n",
    "# txt_clip = txt_clip.set_position((0.1,0.90), relative=True)\n",
    "# Overlay the text clip on the first video clip \n",
    "video = CompositeVideoClip([final, txt_clip]) \n",
    "txt_clip = txt_clip.set_position((5,35))\n",
    "video.duration=10\n",
    "video.write_videofile(\"combined.mp4\")\n"
   ]
  },
  {
   "cell_type": "code",
   "execution_count": 7,
   "metadata": {},
   "outputs": [
    {
     "name": "stdout",
     "output_type": "stream",
     "text": [
      "Choose another folder name! This one already has files in it.\n",
      "MoviePy - Writing audio in experiments/./elmo/elmo_audio.mp3\n"
     ]
    },
    {
     "name": "stderr",
     "output_type": "stream",
     "text": [
      "                                                                    "
     ]
    },
    {
     "name": "stdout",
     "output_type": "stream",
     "text": [
      "MoviePy - Done.\n"
     ]
    },
    {
     "name": "stderr",
     "output_type": "stream",
     "text": [
      "\r"
     ]
    },
    {
     "name": "stdout",
     "output_type": "stream",
     "text": [
      "Moviepy - Building video experiments/./elmo/captioned_elmo.mp4.\n",
      "MoviePy - Writing audio in captioned_elmoTEMP_MPY_wvf_snd.mp4\n"
     ]
    },
    {
     "name": "stderr",
     "output_type": "stream",
     "text": [
      "                                                                  \r"
     ]
    },
    {
     "name": "stdout",
     "output_type": "stream",
     "text": [
      "MoviePy - Done.\n",
      "Moviepy - Writing video experiments/./elmo/captioned_elmo.mp4\n",
      "\n"
     ]
    },
    {
     "name": "stderr",
     "output_type": "stream",
     "text": [
      "                                                              \r"
     ]
    },
    {
     "name": "stdout",
     "output_type": "stream",
     "text": [
      "Moviepy - Done !\n",
      "Moviepy - video ready experiments/./elmo/captioned_elmo.mp4\n"
     ]
    }
   ],
   "source": [
    "## Imports\n",
    "from __future__ import unicode_literals\n",
    "from yt_dlp import YoutubeDL\n",
    "import yt_dlp\n",
    "from IPython.display import Video\n",
    "import whisper\n",
    "import cv2\n",
    "import pandas as pd\n",
    "from moviepy.editor import VideoFileClip\n",
    "import moviepy.editor as mp\n",
    "from IPython.display import display, Markdown\n",
    "from moviepy.editor import *\n",
    "from moviepy.video.tools.subtitles import SubtitlesClip\n",
    "import os\n",
    "\n",
    "import cv2\n",
    "\n",
    "def subtitle_video(model_type, name, audio_file, input_file, output, uploaded_vid = None):\n",
    "    ## First, this checks if your expermiment name is taken. If not, it will create the directory.\n",
    "    ## Otherwise, we will be prompted to retry with a new name\n",
    "    try:\n",
    "        os.mkdir(f'experiments/{name}')\n",
    "        print('Starting AutoCaptioning...')\n",
    "        print(f'Results will be stored in experiments/{name}')\n",
    "        \n",
    "    except:\n",
    "        print('Choose another folder name! This one already has files in it.')\n",
    "\n",
    "\n",
    "    # Use local clip if not downloading from youtube\n",
    "    my_clip = mp.VideoFileClip(uploaded_vid)\n",
    "    my_clip.audio.write_audiofile(f'experiments/{name}/{audio_file}', bitrate=\"50k\")\n",
    "\n",
    "    # Instantiate whisper model using model_type variable\n",
    "    model = whisper.load_model(model_type)\n",
    "    \n",
    "    # Get text from speech for subtitles from audio file\n",
    "    result = model.transcribe(f'experiments/{name}/{audio_file}', task = 'translate')\n",
    "    \n",
    "    # create Subtitle dataframe, and save it\n",
    "    dict1 = {'start':[], 'end':[], 'text':[]}\n",
    "    for i in result['segments']:\n",
    "        dict1['start'].append(int(i['start']))\n",
    "        dict1['end'].append(int(i['end']))\n",
    "        dict1['text'].append(i['text'])\n",
    "    df = pd.DataFrame.from_dict(dict1)\n",
    "    df.to_csv(f'experiments/{name}/subs.csv')\n",
    "    vidcap = cv2.VideoCapture(f'experiments/{name}/{input_file}')\n",
    "    _, image = vidcap.read()\n",
    "    height = image.shape[0]\n",
    "    width =image.shape[1]\n",
    "\n",
    "    # Instantiate MoviePy subtitle generator with TextClip, subtitles, and SubtitlesClip\n",
    "    generator = lambda txt: TextClip(txt, font='P052-Bold', fontsize=width/20, stroke_width=.7, color='white', stroke_color = 'black', size = (width, height*.25), method='caption')\n",
    "    # generator = lambda txt: TextClip(txt, color='white', fontsize=20, font='Georgia-Regular',stroke_width=3, method='caption', align='south', size=video.size)\n",
    "    subs = tuple(zip(tuple(zip(df['start'].values, df['end'].values)), df['text'].values))\n",
    "    subtitles = SubtitlesClip(subs, generator)\n",
    "    \n",
    "\n",
    "    video = VideoFileClip(uploaded_vid)\n",
    "    final = CompositeVideoClip([video, subtitles.set_pos(('center','bottom'))])\n",
    "    final.write_videofile(f'experiments/{name}/{output}', fps=video.fps, remove_temp=True, codec=\"libx264\", audio_codec=\"aac\")\n",
    "\n",
    "\n",
    "subtitle_video('medium.en', './elmo', 'elmo_audio.mp3', 'combined.mp4', 'captioned_elmo.mp4', 'experiments/elmo/combined.mp4')\n"
   ]
  },
  {
   "cell_type": "code",
   "execution_count": null,
   "metadata": {},
   "outputs": [],
   "source": []
  }
 ],
 "metadata": {
  "kernelspec": {
   "display_name": ".venv",
   "language": "python",
   "name": "python3"
  },
  "language_info": {
   "codemirror_mode": {
    "name": "ipython",
    "version": 3
   },
   "file_extension": ".py",
   "mimetype": "text/x-python",
   "name": "python",
   "nbconvert_exporter": "python",
   "pygments_lexer": "ipython3",
   "version": "3.11.2"
  },
  "orig_nbformat": 4
 },
 "nbformat": 4,
 "nbformat_minor": 2
}
