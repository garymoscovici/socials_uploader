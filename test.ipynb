{
 "cells": [
  {
   "cell_type": "code",
   "execution_count": 3,
   "metadata": {},
   "outputs": [
    {
     "name": "stdout",
     "output_type": "stream",
     "text": [
      "{'action': 'post', 'status': 'error', 'code': 136, 'message': 'Media URLs invalid. Please verify the media is an externally accessible URL.'}\n"
     ]
    }
   ],
   "source": [
    "from ayrshare import SocialPost\n",
    "\n",
    "social = SocialPost(\"8CDFGGH-36RM832-M840QJY-6B6KZJ1\")\n",
    "res = social.post(data={\"post\": \"Test post 1\", \"mediaUrls\": \"./test_vid.mp4\", \"platforms\":\"tiktok\"})\n",
    "print(res)\n"
   ]
  },
  {
   "cell_type": "code",
   "execution_count": null,
   "metadata": {},
   "outputs": [],
   "source": [
    "import requests\n",
    "\n",
    "payload = {'file': 'data:image/jpeg;base64,/9j/4AAQSkZJRgABAQAAAQ...', \n",
    "        'fileName': \"test.png\",\n",
    "        'description': \"best image\"}\n",
    "headers = {'Content-Type': 'application/json', \n",
    "        'Authorization': 'Bearer API_KEY'}\n",
    "\n",
    "r = requests.post('https://app.ayrshare.com/api/media/upload', \n",
    "    json=payload, \n",
    "    headers=headers)\n",
    "    \n",
    "print(r.json())"
   ]
  },
  {
   "cell_type": "code",
   "execution_count": 18,
   "metadata": {},
   "outputs": [
    {
     "name": "stderr",
     "output_type": "stream",
     "text": [
      "\n",
      "\n",
      "\u001b[A\u001b[A                                                        \n",
      "\u001b[A\n",
      "\n",
      "\u001b[A\u001b[A                                                        \n",
      "\u001b[A"
     ]
    },
    {
     "name": "stdout",
     "output_type": "stream",
     "text": [
      "Moviepy - Building video combined.mp4.\n",
      "MoviePy - Writing audio in combinedTEMP_MPY_wvf_snd.mp3\n"
     ]
    },
    {
     "name": "stderr",
     "output_type": "stream",
     "text": [
      "                                                                    \n",
      "\n",
      "\u001b[A\u001b[A                                                        \n",
      "\u001b[A\n",
      "\n",
      "\u001b[A\u001b[A                                                        \n",
      "\u001b[A"
     ]
    },
    {
     "name": "stdout",
     "output_type": "stream",
     "text": [
      "MoviePy - Done.\n",
      "Moviepy - Writing video combined.mp4\n",
      "\n"
     ]
    },
    {
     "name": "stderr",
     "output_type": "stream",
     "text": [
      "                                                              \n",
      "\n",
      "\u001b[A\u001b[A                                                        \n",
      "\u001b[A\n",
      "\n",
      "\u001b[A\u001b[A                                                        \n",
      "\u001b[A"
     ]
    },
    {
     "name": "stdout",
     "output_type": "stream",
     "text": [
      "Moviepy - Done !\n",
      "Moviepy - video ready combined.mp4\n"
     ]
    }
   ],
   "source": [
    "from moviepy.editor import *\n",
    "from moviepy.video.fx.all import crop\n",
    "\n",
    "clip1 = VideoFileClip(\"test_vid.mp4\")\n",
    "clip2 = VideoFileClip('soap_cutting.mp4')\n",
    "\n",
    "clip1 = clip1.subclip(10,20)\n",
    "\n",
    "clip2 = clip2.subclip(100,110)\n",
    "(w,h) = clip2.size\n",
    "\n",
    "cropped_clip2 = crop(clip2,width=w/2, x_center=(h/2) + (w/4))\n",
    "(w,h) = cropped_clip2.size\n",
    "clip1 = clip1.resize(width=w)\n",
    "final = clips_array([[clip1], [cropped_clip2]])\n",
    "# final.ipython_display(width=480)\n",
    "final.write_videofile(\"combined.mp4\")"
   ]
  },
  {
   "cell_type": "code",
   "execution_count": 23,
   "metadata": {},
   "outputs": [
    {
     "name": "stdout",
     "output_type": "stream",
     "text": [
      "[960, 1620]\n",
      "0.5925925925925926\n",
      "15.1875\n"
     ]
    }
   ],
   "source": [
    "clip_out = VideoFileClip(\"combined.mp4\")\n",
    "print(clip_out.size)\n",
    "print(clip_out.size[0]/clip_out.size[1])\n",
    "print(clip_out.size[1]/clip_out.size[0]*9)\n"
   ]
  },
  {
   "cell_type": "code",
   "execution_count": 11,
   "metadata": {},
   "outputs": [
    {
     "name": "stdout",
     "output_type": "stream",
     "text": [
      "getting cookies button\n",
      "clicked cookies button\n"
     ]
    }
   ],
   "source": [
    "from selenium import webdriver\n",
    "from selenium .webdriver.common.by import By\n",
    "from selenium.webdriver.support.ui import WebDriverWait\n",
    "from selenium.webdriver.support import expected_conditions as EC\n",
    "from selenium.webdriver.common.keys import Keys\n",
    "import time\n",
    "import pickle\n",
    "\n",
    "COOKIES_BUTTON = \"/html/body/div[2]/div/div/div[2]/div/div/div[1]/div/div[2]/div/div/div/div/div[2]/div/button[1]\"\n",
    "USERNAME_XPATH = \"/html/body/div[2]/div/div/div[1]/div/div/div/div[1]/section/main/article/div[2]/div[1]/div[2]/form/div/div[1]/div/label/input\"\n",
    "PASSWORD_XPATH = \"/html/body/div[2]/div/div/div[1]/div/div/div/div[1]/section/main/article/div[2]/div[1]/div[2]/form/div[1]/div[2]/div/label/input\"\n",
    "LOGIN_BUTTON = \"/html/body/div[2]/div/div/div[1]/div/div/div/div[1]/section/main/article/div[2]/div[1]/div[2]/form/div/div[3]\"\n",
    "CREATE_CONTENT_SELECTOR = \"[aria-label=New post]\"\n",
    "TURN_OFF_NOTIFICATIONS_XPATH = \"/html/body/div[2]/div/div/div[3]/div/div/div[1]/div/div[2]/div/div/div/div/div[2]/div/div/div[3]/button[2]\"\n",
    "\n",
    "\n",
    "driver = webdriver.Chrome()\n",
    "driver.get(\"https://instagram.com\")\n",
    "\n",
    "def get_login_cookies():\n",
    "    print(\"getting cookies button\")\n",
    "    element = WebDriverWait(driver, 10).until(\n",
    "        EC.presence_of_element_located((By.XPATH, COOKIES_BUTTON))\n",
    "    )\n",
    "    element.click()\n",
    "    print(\"clicked cookies button\")\n",
    "    \n",
    "    time.sleep(1)\n",
    "    # Login\n",
    "    # TODO: add webdriver wait\n",
    "    element = driver.find_element(By.XPATH, USERNAME_XPATH)\n",
    "    element.send_keys(\"user@email.com\")\n",
    "    element = driver.find_element(By.XPATH, PASSWORD_XPATH)\n",
    "    element.send_keys(\"password\")\n",
    "    element.send_keys(Keys.RETURN)\n",
    "    element = WebDriverWait(driver, 10).until(\n",
    "        EC.presence_of_element_located((By.XPATH, TURN_OFF_NOTIFICATIONS_XPATH))\n",
    "    )\n",
    "    \n",
    "    element.click()\n",
    "    save_cookie(driver, './insta_cookies.txt')\n",
    "    \n",
    "def save_cookie(driver, path):\n",
    "    with open(path, 'wb') as filehandler:\n",
    "        pickle.dump(driver.get_cookies(), filehandler)\n",
    "\n",
    "get_login_cookies()"
   ]
  },
  {
   "cell_type": "code",
   "execution_count": 40,
   "metadata": {},
   "outputs": [
    {
     "name": "stdout",
     "output_type": "stream",
     "text": [
      "loading cookies\n",
      "Turning off notifications\n",
      "Clicking create content button\n",
      "Clicking upload video\n",
      "Waiting\n",
      "Typing file path to video\n",
      "Confirming upload to reels\n",
      "clicking next after selecting video\n",
      "Attempting to click on select thumbnail\n"
     ]
    }
   ],
   "source": [
    "\n",
    "             \n",
    "from selenium import webdriver\n",
    "from selenium .webdriver.common.by import By\n",
    "from selenium.webdriver.support.ui import WebDriverWait\n",
    "from selenium.webdriver.support import expected_conditions as EC\n",
    "from selenium.webdriver.common.keys import Keys\n",
    "from selenium.webdriver.common.action_chains import ActionChains\n",
    "from selenium.common.exceptions import NoSuchElementException\n",
    "import pyautogui\n",
    "\n",
    "COOKIES_BUTTON = \"/html/body/div[2]/div/div/div[2]/div/div/div[1]/div/div[2]/div/div/div/div/div[2]/div/button[1]\"\n",
    "USERNAME_XPATH = \"/html/body/div[2]/div/div/div[1]/div/div/div/div[1]/section/main/article/div[2]/div[1]/div[2]/form/div/div[1]/div/label/input\"\n",
    "PASSWORD_XPATH = \"/html/body/div[2]/div/div/div[1]/div/div/div/div[1]/section/main/article/div[2]/div[1]/div[2]/form/div[1]/div[2]/div/label/input\"\n",
    "LOGIN_BUTTON = \"/html/body/div[2]/div/div/div[1]/div/div/div/div[1]/section/main/article/div[2]/div[1]/div[2]/form/div/div[3]\"\n",
    "CREATE_CONTENT_SELECTOR = \"[aria-label='New post']\"\n",
    "TURN_OFF_NOTIFICATIONS_XPATH = \"/html/body/div[2]/div/div/div[3]/div/div/div[1]/div/div[2]/div/div/div/div/div[2]/div/div/div[3]/button[2]\"\n",
    "UPLOAD_BUTTON = \"/html/body/div[2]/div/div/div[3]/div/div/div[1]/div/div[3]/div/div/div/div/div[2]/div/div/div/div[2]/div[1]/div/div/div[2]/div/button\"\n",
    "CONFIRM_REELS_XPATH = \"/html/body/div[2]/div/div/div[3]/div/div/div[2]/div/div/div[1]/div/div[2]/div/div/div/div/div[2]/div/div/div[3]/div/div[4]/button\"\n",
    "UPLOAD_NEXT_XPATH = \"/html/body/div[2]/div/div/div[3]/div/div/div[1]/div/div[3]/div/div/div/div/div[2]/div/div/div/div[1]/div/div/div[3]/div/div\"\n",
    "SELECT_THUMBNAIL_XPATH = \"//*[contains(text(), 'Select From Computer')]\"\n",
    "UPLOAD_NEXT_2_XPATH = \"/html/body/div[2]/div/div/div[3]/div/div/div[1]/div/div[3]/div/div/div/div/div[2]/div/div/div/div[1]/div/div/div[3]/div/div\"\n",
    "CAPTION_XPATH = \"/html/body/div[2]/div/div/div[3]/div/div/div[1]/div/div[3]/div/div/div/div/div[2]/div/div/div/div[2]/div[2]/div/div/div/div[2]/div[1]/div[1]\"\n",
    "def load_cookie(driver, path):\n",
    "     with open(path, 'rb') as cookiesfile:\n",
    "         cookies = pickle.load(cookiesfile)\n",
    "         for cookie in cookies:\n",
    "             driver.add_cookie(cookie)\n",
    "\n",
    "driver = webdriver.Chrome()\n",
    "driver.get(\"https://instagram.com\")\n",
    "load_cookie(driver,'./insta_cookies.txt')\n",
    "print(\"loading cookies\")\n",
    "driver.refresh()\n",
    "print('Turning off notifications')\n",
    "element = WebDriverWait(driver, 10).until(\n",
    "    EC.presence_of_element_located((By.XPATH, TURN_OFF_NOTIFICATIONS_XPATH))\n",
    ")\n",
    "\n",
    "element.click()\n",
    "print('Clicking create content button')\n",
    "element = WebDriverWait(driver, 10).until(\n",
    "    EC.presence_of_element_located((By.CSS_SELECTOR, CREATE_CONTENT_SELECTOR))\n",
    ")\n",
    "element.click()\n",
    "print('Clicking upload video')\n",
    "element = WebDriverWait(driver, 10).until(\n",
    "    EC.presence_of_element_located((By.XPATH, UPLOAD_BUTTON))\n",
    ")\n",
    "element.click()\n",
    "\n",
    "print('Waiting')\n",
    "time.sleep(2)\n",
    "print('Typing file path to video')\n",
    "pyautogui.typewrite(r\"C:\\Users\\garym\\Videos\\test_vid.mp4\")\n",
    "pyautogui.press('enter')\n",
    "try:\n",
    "    print('Confirming upload to reels')\n",
    "    element = WebDriverWait(driver, 10).until(\n",
    "        EC.presence_of_element_located((By.XPATH, CONFIRM_REELS_XPATH))\n",
    "    )\n",
    "    element.click()\n",
    "except NoSuchElementException:\n",
    "    pass\n",
    "\n",
    "print(\"clicking next after selecting video\")\n",
    "element = WebDriverWait(driver, 10).until(\n",
    "    EC.presence_of_element_located((By.XPATH, UPLOAD_NEXT_XPATH))\n",
    ")\n",
    "element.click()\n",
    "\n",
    "\n",
    "print(\"Attempting to click on select thumbnail\")\n",
    "time.sleep(1)\n",
    "element = WebDriverWait(driver, 10).until(\n",
    "    EC.presence_of_element_located((By.XPATH, SELECT_THUMBNAIL_XPATH))\n",
    ")\n",
    "element.click()\n",
    "\n",
    "time.sleep(2)\n",
    "pyautogui.typewrite(r\"C:\\Users\\garym\\Pictures\\IMG_20200316_143802.jpg\")\n",
    "pyautogui.press('enter')\n",
    "\n",
    "\n",
    "element = WebDriverWait(driver, 10).until(\n",
    "    EC.presence_of_element_located((By.XPATH, UPLOAD_NEXT_2_XPATH))\n",
    ")\n",
    "element.click()\n",
    "\n",
    "element = driver.find_element(By.XPATH, CAPTION_XPATH)\n",
    "element.send_keys(\"This be a test caption\")"
   ]
  },
  {
   "cell_type": "code",
   "execution_count": 24,
   "metadata": {},
   "outputs": [],
   "source": [
    "\n",
    "import pyautogui\n",
    "pyautogui.typewrite(r\"hello\")"
   ]
  },
  {
   "cell_type": "markdown",
   "metadata": {},
   "source": [
    "# from selenium import webdriver\n",
    "# from selenium .webdriver.common.by import By\n",
    "# from selenium.webdriver.support.ui import WebDriverWait\n",
    "# from selenium.webdriver.support import expected_conditions as EC\n",
    "# from selenium.webdriver.common.keys import Keys\n",
    "# import time\n",
    "# driver = webdriver.Chrome()\n",
    "# driver.get(\"https://instagram.com\")\n",
    "# COOKIES_BUTTON = \"/html/body/div[2]/div/div/div[2]/div/div/div[1]/div/div[2]/div/div/div/div/div[2]/div/button[1]\"\n",
    "# USERNAME_XPATH = \"/html/body/div[2]/div/div/div[1]/div/div/div/div[1]/section/main/article/div[2]/div[1]/div[2]/form/div/div[1]/div/label/input\"\n",
    "# PASSWORD_XPATH = \"/html/body/div[2]/div/div/div[1]/div/div/div/div[1]/section/main/article/div[2]/div[1]/div[2]/form/div[1]/div[2]/div/label/input\"\n",
    "# LOGIN_BUTTON = \"/html/body/div[2]/div/div/div[1]/div/div/div/div[1]/section/main/article/div[2]/div[1]/div[2]/form/div/div[3]\"\n",
    "# CREATE_CONTENT_SELECTOR = \"[aria-label=New post]\"\n",
    "# TURN_OFF_NOTIFICATIONS_XPATH = \"/html/body/div[2]/div/div/div[3]/div/div/div[1]/div/div[2]/div/div/div/div/div[2]/div/div/div[3]/button[2]\"\n",
    "# UPLOAD_BUTTON = \"/html/body/div[2]/div/div/div[3]/div/div/div[1]/div/div[3]/div/div/div/div/div[2]/div/div/div/div[2]/div[1]/div/div/div[2]/div/button\"\n",
    "# # time.sleep(4)\n",
    "# # WebDriverWait(browser, 20).until(EC.presence_of_element_located((By.CSS_SELECTOR, \".reply-button\"))).click()\n",
    "# # cookies_button = driver.find_element(By.XPATH, \"/html/body/div[2]/div/div/div[2]/div/div/div[1]/div/div[2]/div/div/div/div/div[2]/div/button[1]\")\n",
    "# # cookies_button.click()\n",
    "\n",
    "# try:\n",
    "#     # Accept cookies\n",
    "#     element = WebDriverWait(driver, 10).until(\n",
    "#         EC.presence_of_element_located((By.XPATH, COOKIES_BUTTON))\n",
    "#     )\n",
    "#     element.click()\n",
    "#     time.sleep(1)\n",
    "#     # Login\n",
    "#     # TODO: add webdriver wait\n",
    "#     element = driver.find_element(By.XPATH, USERNAME_XPATH)\n",
    "#     element.send_keys(\"garymoscov@gmail.com\")\n",
    "#     element = driver.find_element(By.XPATH, PASSWORD_XPATH)\n",
    "#     element.send_keys(\"St1nkert0n\")\n",
    "#     element.send_keys(Keys.RETURN)\n",
    "#     element = WebDriverWait(driver, 10).until(\n",
    "#         EC.presence_of_element_located((By.XPATH, TURN_OFF_NOTIFICATIONS_XPATH))\n",
    "#     )\n",
    "    \n",
    "#     element.click()\n",
    "    \n",
    "#     element = WebDriverWait(driver, ).until(\n",
    "#         EC.presence_of_element_located((By.XPATH, CREATE_CONTENT_XPATH))\n",
    "#     )\n",
    "#     element.click()\n",
    "    \n",
    "    \n",
    "# finally:\n",
    "#     pass\n",
    "#     # driver.quit()"
   ]
  },
  {
   "cell_type": "code",
   "execution_count": null,
   "metadata": {},
   "outputs": [],
   "source": []
  }
 ],
 "metadata": {
  "kernelspec": {
   "display_name": ".venv",
   "language": "python",
   "name": "python3"
  },
  "language_info": {
   "codemirror_mode": {
    "name": "ipython",
    "version": 3
   },
   "file_extension": ".py",
   "mimetype": "text/x-python",
   "name": "python",
   "nbconvert_exporter": "python",
   "pygments_lexer": "ipython3",
   "version": "3.11.2"
  },
  "orig_nbformat": 4
 },
 "nbformat": 4,
 "nbformat_minor": 2
}
