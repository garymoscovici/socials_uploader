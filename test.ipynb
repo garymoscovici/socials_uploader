{
 "cells": [
  {
   "cell_type": "code",
   "execution_count": 3,
   "metadata": {},
   "outputs": [
    {
     "name": "stdout",
     "output_type": "stream",
     "text": [
      "{'action': 'post', 'status': 'error', 'code': 136, 'message': 'Media URLs invalid. Please verify the media is an externally accessible URL.'}\n"
     ]
    }
   ],
   "source": [
    "from ayrshare import SocialPost\n",
    "\n",
    "social = SocialPost(\"8CDFGGH-36RM832-M840QJY-6B6KZJ1\")\n",
    "res = social.post(data={\"post\": \"Test post 1\", \"mediaUrls\": \"./test_vid.mp4\", \"platforms\":\"tiktok\"})\n",
    "print(res)\n"
   ]
  },
  {
   "cell_type": "code",
   "execution_count": null,
   "metadata": {},
   "outputs": [],
   "source": [
    "import requests\n",
    "\n",
    "payload = {'file': 'data:image/jpeg;base64,/9j/4AAQSkZJRgABAQAAAQ...', \n",
    "        'fileName': \"test.png\",\n",
    "        'description': \"best image\"}\n",
    "headers = {'Content-Type': 'application/json', \n",
    "        'Authorization': 'Bearer API_KEY'}\n",
    "\n",
    "r = requests.post('https://app.ayrshare.com/api/media/upload', \n",
    "    json=payload, \n",
    "    headers=headers)\n",
    "    \n",
    "print(r.json())"
   ]
  },
  {
   "cell_type": "code",
   "execution_count": 18,
   "metadata": {},
   "outputs": [
    {
     "name": "stderr",
     "output_type": "stream",
     "text": [
      "\n",
      "\n",
      "\u001b[A\u001b[A                                                        \n",
      "\u001b[A\n",
      "\n",
      "\u001b[A\u001b[A                                                        \n",
      "\u001b[A"
     ]
    },
    {
     "name": "stdout",
     "output_type": "stream",
     "text": [
      "Moviepy - Building video combined.mp4.\n",
      "MoviePy - Writing audio in combinedTEMP_MPY_wvf_snd.mp3\n"
     ]
    },
    {
     "name": "stderr",
     "output_type": "stream",
     "text": [
      "                                                                    \n",
      "\n",
      "\u001b[A\u001b[A                                                        \n",
      "\u001b[A\n",
      "\n",
      "\u001b[A\u001b[A                                                        \n",
      "\u001b[A"
     ]
    },
    {
     "name": "stdout",
     "output_type": "stream",
     "text": [
      "MoviePy - Done.\n",
      "Moviepy - Writing video combined.mp4\n",
      "\n"
     ]
    },
    {
     "name": "stderr",
     "output_type": "stream",
     "text": [
      "                                                              \n",
      "\n",
      "\u001b[A\u001b[A                                                        \n",
      "\u001b[A\n",
      "\n",
      "\u001b[A\u001b[A                                                        \n",
      "\u001b[A"
     ]
    },
    {
     "name": "stdout",
     "output_type": "stream",
     "text": [
      "Moviepy - Done !\n",
      "Moviepy - video ready combined.mp4\n"
     ]
    }
   ],
   "source": [
    "from moviepy.editor import *\n",
    "from moviepy.video.fx.all import crop\n",
    "\n",
    "clip1 = VideoFileClip(\"test_vid.mp4\")\n",
    "clip2 = VideoFileClip('soap_cutting.mp4')\n",
    "\n",
    "clip1 = clip1.subclip(10,20)\n",
    "\n",
    "clip2 = clip2.subclip(100,110)\n",
    "(w,h) = clip2.size\n",
    "\n",
    "cropped_clip2 = crop(clip2,width=w/2, x_center=(h/2) + (w/4))\n",
    "(w,h) = cropped_clip2.size\n",
    "clip1 = clip1.resize(width=w)\n",
    "final = clips_array([[clip1], [cropped_clip2]])\n",
    "# final.ipython_display(width=480)\n",
    "final.write_videofile(\"combined.mp4\")"
   ]
  },
  {
   "cell_type": "code",
   "execution_count": 23,
   "metadata": {},
   "outputs": [
    {
     "name": "stdout",
     "output_type": "stream",
     "text": [
      "[960, 1620]\n",
      "0.5925925925925926\n",
      "15.1875\n"
     ]
    }
   ],
   "source": [
    "clip_out = VideoFileClip(\"combined.mp4\")\n",
    "print(clip_out.size)\n",
    "print(clip_out.size[0]/clip_out.size[1])\n",
    "print(clip_out.size[1]/clip_out.size[0]*9)\n"
   ]
  },
  {
   "cell_type": "code",
   "execution_count": 8,
   "metadata": {},
   "outputs": [],
   "source": [
    "from selenium import webdriver\n",
    "from selenium .webdriver.common.by import By\n",
    "from selenium.webdriver.support.ui import WebDriverWait\n",
    "from selenium.webdriver.support import expected_conditions as EC\n",
    "from selenium.webdriver.common.keys import Keys\n",
    "import time\n",
    "driver = webdriver.Chrome()\n",
    "driver.get(\"https://instagram.com\")\n",
    "COOKIES_BUTTON = \"/html/body/div[2]/div/div/div[2]/div/div/div[1]/div/div[2]/div/div/div/div/div[2]/div/button[1]\"\n",
    "USERNAME_XPATH = \"/html/body/div[2]/div/div/div[1]/div/div/div/div[1]/section/main/article/div[2]/div[1]/div[2]/form/div/div[1]/div/label/input\"\n",
    "PASSWORD_XPATH = \"/html/body/div[2]/div/div/div[1]/div/div/div/div[1]/section/main/article/div[2]/div[1]/div[2]/form/div[1]/div[2]/div/label/input\"\n",
    "LOGIN_BUTTON = \"/html/body/div[2]/div/div/div[1]/div/div/div/div[1]/section/main/article/div[2]/div[1]/div[2]/form/div/div[3]\"\n",
    "CREATE_CONTENT_XPATH = \"/html/body/div[2]/div/div/div[2]/div/div/div/div[1]/div[1]/div[1]/div/div/div/div/div[2]/div[8]/div/div/a/div\"\n",
    "# time.sleep(4)\n",
    "# WebDriverWait(browser, 20).until(EC.presence_of_element_located((By.CSS_SELECTOR, \".reply-button\"))).click()\n",
    "# cookies_button = driver.find_element(By.XPATH, \"/html/body/div[2]/div/div/div[2]/div/div/div[1]/div/div[2]/div/div/div/div/div[2]/div/button[1]\")\n",
    "# cookies_button.click()\n",
    "\n",
    "try:\n",
    "    element = WebDriverWait(driver, 10).until(\n",
    "        EC.presence_of_element_located((By.XPATH, COOKIES_BUTTON))\n",
    "    )\n",
    "    element.click()\n",
    "    \n",
    "    element = driver.find_element(By.XPATH, USERNAME_XPATH)\n",
    "    element.send_keys(\"username\")\n",
    "    element = driver.find_element(By.XPATH, PASSWORD_XPATH)\n",
    "    element.send_keys(\"password\")\n",
    "    element.send_keys(Keys.RETURN)\n",
    "    \n",
    "    element = driver.find_element(By.XPATH, CREATE_CONTENT_XPATH)\n",
    "finally:\n",
    "    pass\n",
    "    # driver.quit()"
   ]
  }
 ],
 "metadata": {
  "kernelspec": {
   "display_name": ".venv",
   "language": "python",
   "name": "python3"
  },
  "language_info": {
   "codemirror_mode": {
    "name": "ipython",
    "version": 3
   },
   "file_extension": ".py",
   "mimetype": "text/x-python",
   "name": "python",
   "nbconvert_exporter": "python",
   "pygments_lexer": "ipython3",
   "version": "3.11.2"
  },
  "orig_nbformat": 4
 },
 "nbformat": 4,
 "nbformat_minor": 2
}
