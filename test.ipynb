{
 "cells": [
  {
   "cell_type": "code",
   "execution_count": 3,
   "metadata": {},
   "outputs": [
    {
     "name": "stdout",
     "output_type": "stream",
     "text": [
      "{'action': 'post', 'status': 'error', 'code': 136, 'message': 'Media URLs invalid. Please verify the media is an externally accessible URL.'}\n"
     ]
    }
   ],
   "source": [
    "from ayrshare import SocialPost\n",
    "\n",
    "social = SocialPost()\n",
    "res = social.post(data={\"post\": \"Test post 1\", \"mediaUrls\": \"./test_vid.mp4\", \"platforms\":\"tiktok\"})\n",
    "print(res)\n"
   ]
  },
  {
   "cell_type": "code",
   "execution_count": null,
   "metadata": {},
   "outputs": [],
   "source": [
    "import requests\n",
    "\n",
    "payload = {'file': 'data:image/jpeg;base64,/9j/4AAQSkZJRgABAQAAAQ...', \n",
    "        'fileName': \"test.png\",\n",
    "        'description': \"best image\"}\n",
    "headers = {'Content-Type': 'application/json', \n",
    "        'Authorization': 'Bearer API_KEY'}\n",
    "\n",
    "r = requests.post('https://app.ayrshare.com/api/media/upload', \n",
    "    json=payload, \n",
    "    headers=headers)\n",
    "    \n",
    "print(r.json())"
   ]
  },
  {
   "cell_type": "code",
   "execution_count": 18,
   "metadata": {},
   "outputs": [
    {
     "name": "stderr",
     "output_type": "stream",
     "text": [
      "\n",
      "\n",
      "\u001b[A\u001b[A                                                        \n",
      "\u001b[A\n",
      "\n",
      "\u001b[A\u001b[A                                                        \n",
      "\u001b[A"
     ]
    },
    {
     "name": "stdout",
     "output_type": "stream",
     "text": [
      "Moviepy - Building video combined.mp4.\n",
      "MoviePy - Writing audio in combinedTEMP_MPY_wvf_snd.mp3\n"
     ]
    },
    {
     "name": "stderr",
     "output_type": "stream",
     "text": [
      "                                                                    \n",
      "\n",
      "\u001b[A\u001b[A                                                        \n",
      "\u001b[A\n",
      "\n",
      "\u001b[A\u001b[A                                                        \n",
      "\u001b[A"
     ]
    },
    {
     "name": "stdout",
     "output_type": "stream",
     "text": [
      "MoviePy - Done.\n",
      "Moviepy - Writing video combined.mp4\n",
      "\n"
     ]
    },
    {
     "name": "stderr",
     "output_type": "stream",
     "text": [
      "                                                              \n",
      "\n",
      "\u001b[A\u001b[A                                                        \n",
      "\u001b[A\n",
      "\n",
      "\u001b[A\u001b[A                                                        \n",
      "\u001b[A"
     ]
    },
    {
     "name": "stdout",
     "output_type": "stream",
     "text": [
      "Moviepy - Done !\n",
      "Moviepy - video ready combined.mp4\n"
     ]
    }
   ],
   "source": [
    "from moviepy.editor import *\n",
    "from moviepy.video.fx.all import crop\n",
    "\n",
    "clip1 = VideoFileClip(\"test_vid.mp4\")\n",
    "clip2 = VideoFileClip('soap_cutting.mp4')\n",
    "\n",
    "clip1 = clip1.subclip(10,20)\n",
    "\n",
    "clip2 = clip2.subclip(100,110)\n",
    "(w,h) = clip2.size\n",
    "\n",
    "cropped_clip2 = crop(clip2,width=w/2, x_center=(h/2) + (w/4))\n",
    "(w,h) = cropped_clip2.size\n",
    "clip1 = clip1.resize(width=w)\n",
    "final = clips_array([[clip1], [cropped_clip2]])\n",
    "# final.ipython_display(width=480)\n",
    "final.write_videofile(\"combined.mp4\")"
   ]
  },
  {
   "cell_type": "code",
   "execution_count": 19,
   "metadata": {},
   "outputs": [
    {
     "ename": "IndexError",
     "evalue": "list index out of range",
     "output_type": "error",
     "traceback": [
      "\u001b[0;31m---------------------------------------------------------------------------\u001b[0m",
      "\u001b[0;31mIndexError\u001b[0m                                Traceback (most recent call last)",
      "Cell \u001b[0;32mIn[19], line 1\u001b[0m\n\u001b[0;32m----> 1\u001b[0m clip_out \u001b[39m=\u001b[39m VideoFileClip(\u001b[39m\"\u001b[39;49m\u001b[39m./combined.mp4\u001b[39;49m\u001b[39m\"\u001b[39;49m)\n\u001b[1;32m      2\u001b[0m \u001b[39mprint\u001b[39m(clip_out\u001b[39m.\u001b[39msize)\n\u001b[1;32m      5\u001b[0m \u001b[39mprint\u001b[39m(clip_out\u001b[39m.\u001b[39msize[\u001b[39m0\u001b[39m]\u001b[39m/\u001b[39mclip_out\u001b[39m.\u001b[39msize[\u001b[39m1\u001b[39m])\n",
      "File \u001b[0;32m~/projects/socials_uploader/.venv/lib/python3.11/site-packages/moviepy/video/io/VideoFileClip.py:88\u001b[0m, in \u001b[0;36mVideoFileClip.__init__\u001b[0;34m(self, filename, has_mask, audio, audio_buffersize, target_resolution, resize_algorithm, audio_fps, audio_nbytes, verbose, fps_source)\u001b[0m\n\u001b[1;32m     86\u001b[0m \u001b[39m# Make a reader\u001b[39;00m\n\u001b[1;32m     87\u001b[0m pix_fmt \u001b[39m=\u001b[39m \u001b[39m\"\u001b[39m\u001b[39mrgba\u001b[39m\u001b[39m\"\u001b[39m \u001b[39mif\u001b[39;00m has_mask \u001b[39melse\u001b[39;00m \u001b[39m\"\u001b[39m\u001b[39mrgb24\u001b[39m\u001b[39m\"\u001b[39m\n\u001b[0;32m---> 88\u001b[0m \u001b[39mself\u001b[39m\u001b[39m.\u001b[39mreader \u001b[39m=\u001b[39m FFMPEG_VideoReader(filename, pix_fmt\u001b[39m=\u001b[39;49mpix_fmt,\n\u001b[1;32m     89\u001b[0m                                  target_resolution\u001b[39m=\u001b[39;49mtarget_resolution,\n\u001b[1;32m     90\u001b[0m                                  resize_algo\u001b[39m=\u001b[39;49mresize_algorithm,\n\u001b[1;32m     91\u001b[0m                                  fps_source\u001b[39m=\u001b[39;49mfps_source)\n\u001b[1;32m     93\u001b[0m \u001b[39m# Make some of the reader's attributes accessible from the clip\u001b[39;00m\n\u001b[1;32m     94\u001b[0m \u001b[39mself\u001b[39m\u001b[39m.\u001b[39mduration \u001b[39m=\u001b[39m \u001b[39mself\u001b[39m\u001b[39m.\u001b[39mreader\u001b[39m.\u001b[39mduration\n",
      "File \u001b[0;32m~/projects/socials_uploader/.venv/lib/python3.11/site-packages/moviepy/video/io/ffmpeg_reader.py:35\u001b[0m, in \u001b[0;36mFFMPEG_VideoReader.__init__\u001b[0;34m(self, filename, print_infos, bufsize, pix_fmt, check_duration, target_resolution, resize_algo, fps_source)\u001b[0m\n\u001b[1;32m     33\u001b[0m \u001b[39mself\u001b[39m\u001b[39m.\u001b[39mfilename \u001b[39m=\u001b[39m filename\n\u001b[1;32m     34\u001b[0m \u001b[39mself\u001b[39m\u001b[39m.\u001b[39mproc \u001b[39m=\u001b[39m \u001b[39mNone\u001b[39;00m\n\u001b[0;32m---> 35\u001b[0m infos \u001b[39m=\u001b[39m ffmpeg_parse_infos(filename, print_infos, check_duration,\n\u001b[1;32m     36\u001b[0m                            fps_source)\n\u001b[1;32m     37\u001b[0m \u001b[39mself\u001b[39m\u001b[39m.\u001b[39mfps \u001b[39m=\u001b[39m infos[\u001b[39m'\u001b[39m\u001b[39mvideo_fps\u001b[39m\u001b[39m'\u001b[39m]\n\u001b[1;32m     38\u001b[0m \u001b[39mself\u001b[39m\u001b[39m.\u001b[39msize \u001b[39m=\u001b[39m infos[\u001b[39m'\u001b[39m\u001b[39mvideo_size\u001b[39m\u001b[39m'\u001b[39m]\n",
      "File \u001b[0;32m~/projects/socials_uploader/.venv/lib/python3.11/site-packages/moviepy/video/io/ffmpeg_reader.py:269\u001b[0m, in \u001b[0;36mffmpeg_parse_infos\u001b[0;34m(filename, print_infos, check_duration, fps_source)\u001b[0m\n\u001b[1;32m    265\u001b[0m     \u001b[39mprint\u001b[39m(infos)\n\u001b[1;32m    268\u001b[0m lines \u001b[39m=\u001b[39m infos\u001b[39m.\u001b[39msplitlines()\n\u001b[0;32m--> 269\u001b[0m \u001b[39mif\u001b[39;00m \u001b[39m\"\u001b[39m\u001b[39mNo such file or directory\u001b[39m\u001b[39m\"\u001b[39m \u001b[39min\u001b[39;00m lines[\u001b[39m-\u001b[39;49m\u001b[39m1\u001b[39;49m]:\n\u001b[1;32m    270\u001b[0m     \u001b[39mraise\u001b[39;00m \u001b[39mIOError\u001b[39;00m((\u001b[39m\"\u001b[39m\u001b[39mMoviePy error: the file \u001b[39m\u001b[39m%s\u001b[39;00m\u001b[39m could not be found!\u001b[39m\u001b[39m\\n\u001b[39;00m\u001b[39m\"\u001b[39m\n\u001b[1;32m    271\u001b[0m                   \u001b[39m\"\u001b[39m\u001b[39mPlease check that you entered the correct \u001b[39m\u001b[39m\"\u001b[39m\n\u001b[1;32m    272\u001b[0m                   \u001b[39m\"\u001b[39m\u001b[39mpath.\u001b[39m\u001b[39m\"\u001b[39m)\u001b[39m%\u001b[39mfilename)\n\u001b[1;32m    274\u001b[0m result \u001b[39m=\u001b[39m \u001b[39mdict\u001b[39m()\n",
      "\u001b[0;31mIndexError\u001b[0m: list index out of range"
     ]
    }
   ],
   "source": [
    "clip_out = VideoFileClip(\"./combined.mp4\")\n",
    "print(clip_out.size)\n",
    "\n",
    "\n",
    "print(clip_out.size[0]/clip_out.size[1])\n",
    "print(clip_out.size[1]/clip_out.size[0]*9)\n"
   ]
  },
  {
   "cell_type": "code",
   "execution_count": 8,
   "metadata": {},
   "outputs": [],
   "source": [
    "from selenium import webdriver\n",
    "from selenium .webdriver.common.by import By\n",
    "from selenium.webdriver.support.ui import WebDriverWait\n",
    "from selenium.webdriver.support import expected_conditions as EC\n",
    "from selenium.webdriver.common.keys import Keys\n",
    "import time\n",
    "driver = webdriver.Chrome()\n",
    "driver.get(\"https://instagram.com\")\n",
    "COOKIES_BUTTON = \"/html/body/div[2]/div/div/div[2]/div/div/div[1]/div/div[2]/div/div/div/div/div[2]/div/button[1]\"\n",
    "USERNAME_XPATH = \"/html/body/div[2]/div/div/div[1]/div/div/div/div[1]/section/main/article/div[2]/div[1]/div[2]/form/div/div[1]/div/label/input\"\n",
    "PASSWORD_XPATH = \"/html/body/div[2]/div/div/div[1]/div/div/div/div[1]/section/main/article/div[2]/div[1]/div[2]/form/div[1]/div[2]/div/label/input\"\n",
    "LOGIN_BUTTON = \"/html/body/div[2]/div/div/div[1]/div/div/div/div[1]/section/main/article/div[2]/div[1]/div[2]/form/div/div[3]\"\n",
    "CREATE_CONTENT_XPATH = \"/html/body/div[2]/div/div/div[2]/div/div/div/div[1]/div[1]/div[1]/div/div/div/div/div[2]/div[8]/div/div/a/div\"\n",
    "# time.sleep(4)\n",
    "# WebDriverWait(browser, 20).until(EC.presence_of_element_located((By.CSS_SELECTOR, \".reply-button\"))).click()\n",
    "# cookies_button = driver.find_element(By.XPATH, \"/html/body/div[2]/div/div/div[2]/div/div/div[1]/div/div[2]/div/div/div/div/div[2]/div/button[1]\")\n",
    "# cookies_button.click()\n",
    "\n",
    "try:\n",
    "    element = WebDriverWait(driver, 10).until(\n",
    "        EC.presence_of_element_located((By.XPATH, COOKIES_BUTTON))\n",
    "    )\n",
    "    element.click()\n",
    "    \n",
    "    element = driver.find_element(By.XPATH, USERNAME_XPATH)\n",
    "    element.send_keys(\"username\")\n",
    "    element = driver.find_element(By.XPATH, PASSWORD_XPATH)\n",
    "    element.send_keys(\"password\")\n",
    "    element.send_keys(Keys.RETURN)\n",
    "    \n",
    "    element = driver.find_element(By.XPATH, CREATE_CONTENT_XPATH)\n",
    "finally:\n",
    "    pass\n",
    "    # driver.quit()"
   ]
  },
  {
   "cell_type": "code",
   "execution_count": 11,
   "metadata": {},
   "outputs": [
    {
     "name": "stderr",
     "output_type": "stream",
     "text": [
      "t:   1%|          | 1/120 [03:07<6:11:05, 187.11s/it, now=None]"
     ]
    },
    {
     "name": "stdout",
     "output_type": "stream",
     "text": [
      "Moviepy - Building video combined.mp4.\n",
      "MoviePy - Writing audio in combinedTEMP_MPY_wvf_snd.mp3\n"
     ]
    },
    {
     "name": "stderr",
     "output_type": "stream",
     "text": [
      "t:   1%|          | 1/120 [03:07<6:11:20, 187.23s/it, now=None]"
     ]
    },
    {
     "name": "stdout",
     "output_type": "stream",
     "text": [
      "MoviePy - Done.\n",
      "Moviepy - Writing video combined.mp4\n",
      "\n"
     ]
    },
    {
     "name": "stderr",
     "output_type": "stream",
     "text": [
      "t:   1%|          | 1/120 [03:22<6:40:43, 202.05s/it, now=None]"
     ]
    },
    {
     "name": "stdout",
     "output_type": "stream",
     "text": [
      "Moviepy - Done !\n",
      "Moviepy - video ready combined.mp4\n"
     ]
    }
   ],
   "source": [
    "from moviepy.editor import *\n",
    "from moviepy.video.fx.all import crop\n",
    "\n",
    "video = VideoFileClip(\"./test_vid.mp4\")\n",
    "video = video.subclip(0,10)\n",
    "video = video.resize(width=1080)\n",
    "\n",
    "black_image = (ImageClip(\"./background.jpeg\"))\n",
    "final = CompositeVideoClip([black_image, video.set_position(\"center\")])\n",
    "final.duration = 10\n",
    "\n",
    "# Generate a text clip \n",
    "txt_clip = TextClip(\"Caption\", color=\"white\", size=[1000,2000]) \n",
    "    \n",
    "# setting position of text in the center and duration will be 10 seconds \n",
    "txt_clip = txt_clip.set_position(\"top\")\n",
    "# txt_clip = txt_clip.set_position((0.1,0.90), relative=True)\n",
    "# Overlay the text clip on the first video clip \n",
    "video = CompositeVideoClip([final, txt_clip]) \n",
    "txt_clip = txt_clip.set_position((5,35))\n",
    "video.duration=10\n",
    "video.write_videofile(\"combined.mp4\")\n"
   ]
  }
 ],
 "metadata": {
  "kernelspec": {
   "display_name": ".venv",
   "language": "python",
   "name": "python3"
  },
  "language_info": {
   "codemirror_mode": {
    "name": "ipython",
    "version": 3
   },
   "file_extension": ".py",
   "mimetype": "text/x-python",
   "name": "python",
   "nbconvert_exporter": "python",
   "pygments_lexer": "ipython3",
   "version": "3.11.4"
  },
  "orig_nbformat": 4
 },
 "nbformat": 4,
 "nbformat_minor": 2
}
